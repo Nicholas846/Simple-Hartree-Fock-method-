{
  "nbformat": 4,
  "nbformat_minor": 0,
  "metadata": {
    "colab": {
      "provenance": [],
      "authorship_tag": "ABX9TyN2CSfv2VNURuR28yS5TFqM",
      "include_colab_link": true
    },
    "kernelspec": {
      "name": "python3",
      "display_name": "Python 3"
    },
    "language_info": {
      "name": "python"
    }
  },
  "cells": [
    {
      "cell_type": "markdown",
      "metadata": {
        "id": "view-in-github",
        "colab_type": "text"
      },
      "source": [
        "<a href=\"https://colab.research.google.com/github/Nicholas846/Simple-Hartree-Fock-method-/blob/main/Hartree_fock_H2.ipynb\" target=\"_parent\"><img src=\"https://colab.research.google.com/assets/colab-badge.svg\" alt=\"Open In Colab\"/></a>"
      ]
    },
    {
      "cell_type": "code",
      "execution_count": 30,
      "metadata": {
        "id": "imq0VULm4T8s",
        "colab": {
          "base_uri": "https://localhost:8080/"
        },
        "outputId": "657394d6-8eff-40c6-b00e-367fa83b5221"
      },
      "outputs": [
        {
          "output_type": "stream",
          "name": "stdout",
          "text": [
            "Drive already mounted at /cotent; to attempt to forcibly remount, call drive.mount(\"/cotent\", force_remount=True).\n"
          ]
        }
      ],
      "source": [
        "import numpy as np\n",
        "from numpy import *\n",
        "import scipy\n",
        "from scipy.special import erf\n",
        "from google.colab import drive\n",
        "drive.mount('/cotent')\n"
      ]
    },
    {
      "cell_type": "markdown",
      "source": [
        "Read .XYZ file formate which is used to store chemical element, read more at https://en.m.wikipedia.org/wiki/XYZ_file_format\n",
        "\n",
        "---\n",
        "\n"
      ],
      "metadata": {
        "id": "MF8LN-kO_k1X"
      }
    },
    {
      "cell_type": "code",
      "source": [
        "def xyz_reader(file_name):\n",
        "  # atom type and coordinates\n",
        "\n",
        "  file = open(file_name, 'r')\n",
        "\n",
        "  number_of_atoms = 0\n",
        "  atom_type = []\n",
        "  atom_coordinates = []\n",
        "\n",
        "  for idx,line in enumerate(file):\n",
        "    if idx == 0:\n",
        "      try:\n",
        "        number_of_atoms = line.split(0)[0]\n",
        "      except:\n",
        "        print('xyz file not in correct format')\n",
        "\n",
        "    if idx == 1:\n",
        "      continue\n",
        "\n",
        "    if idx != 0:\n",
        "      split = line.split()\n",
        "      atom = split[0]\n",
        "      coordinates = [float(split[1]),\n",
        "                     float(split[2]),\n",
        "                     float(split[3])]\n",
        "\n",
        "      atom_type.append(atom)\n",
        "      atom_coordinates.append(coordinates)\n",
        "\n",
        "    file.close()\n",
        "\n",
        "    return number_of_atoms, atom_type, atom_coordinates\n",
        ""
      ],
      "metadata": {
        "id": "INg_AvJt6GgV"
      },
      "execution_count": 31,
      "outputs": []
    },
    {
      "cell_type": "code",
      "source": [
        "file_name = 'H2.xyz'"
      ],
      "metadata": {
        "id": "5UHva5ueABgL"
      },
      "execution_count": 32,
      "outputs": []
    },
    {
      "cell_type": "code",
      "source": [
        "number_of_atoms, atom_type, atom_coordinates = xyz_reader(file_name)"
      ],
      "metadata": {
        "colab": {
          "base_uri": "https://localhost:8080/"
        },
        "id": "2OlMeR18D88j",
        "outputId": "cb1ea93d-1cde-4101-e048-436f1cfd66ef"
      },
      "execution_count": 33,
      "outputs": [
        {
          "output_type": "stream",
          "name": "stdout",
          "text": [
            "xyz file not in correct format\n"
          ]
        }
      ]
    }
  ]
}